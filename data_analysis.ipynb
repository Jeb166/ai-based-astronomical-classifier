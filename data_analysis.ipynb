{
 "cells": [
  {
   "cell_type": "markdown",
   "id": "b0001711",
   "metadata": {},
   "source": [
    "# Gerekli Kütüphanelerin İçe Aktarılması\n",
    "Bu bölümde, veri analizi ve makine öğrenimi için gerekli kütüphaneler içe aktarılacaktır."
   ]
  },
  {
   "cell_type": "code",
   "execution_count": null,
   "id": "bcc9ecfa",
   "metadata": {},
   "outputs": [],
   "source": [
    "import pandas as pd\n",
    "import numpy as np\n",
    "from sklearn.model_selection import train_test_split\n",
    "from sklearn.preprocessing import StandardScaler, LabelEncoder\n",
    "from keras.utils import to_categorical\n",
    "from imblearn.over_sampling import SMOTE\n",
    "import matplotlib.pyplot as plt\n",
    "import seaborn as sns"
   ]
  },
  {
   "cell_type": "markdown",
   "id": "201bd3fc",
   "metadata": {},
   "source": [
    "# Veri Setinin Yüklenmesi\n",
    "Veri dosyasını CSV formatında okuyun ve ilk birkaç satırı görüntüleyin."
   ]
  },
  {
   "cell_type": "code",
   "execution_count": null,
   "id": "68bbb542",
   "metadata": {},
   "outputs": [],
   "source": [
    "# Veri dosyasını yükle\n",
    "data_path = \"c:\\\\Users\\\\Emre\\\\Desktop\\\\ai-based-astronomical-classifier\\\\data\\\\skyserver.csv\"\n",
    "data = pd.read_csv(data_path)\n",
    "\n",
    "# İlk birkaç satırı görüntüle\n",
    "data.head()"
   ]
  },
  {
   "cell_type": "markdown",
   "id": "562058d8",
   "metadata": {},
   "source": [
    "# Eksik Verilerin İncelenmesi ve Temizlenmesi\n",
    "Eksik veya NaN değerleri kontrol edin ve uygun şekilde temizleyin."
   ]
  },
  {
   "cell_type": "code",
   "execution_count": null,
   "id": "b95b1b11",
   "metadata": {},
   "outputs": [],
   "source": [
    "# Eksik verileri kontrol et\n",
    "missing_values = data.isnull().sum()\n",
    "print(\"Eksik değerler:\")\n",
    "print(missing_values[missing_values > 0])\n",
    "\n",
    "# Eksik değerleri temizle (örnek olarak, satırları düşürüyoruz)\n",
    "data = data.dropna()"
   ]
  },
  {
   "cell_type": "markdown",
   "id": "94e298c2",
   "metadata": {},
   "source": [
    "# Yeni Özelliklerin Eklenmesi\n",
    "Renk indeksleri ve diğer türetilmiş özellikleri veri setine ekleyin."
   ]
  },
  {
   "cell_type": "code",
   "execution_count": null,
   "id": "c8c8ff57",
   "metadata": {},
   "outputs": [],
   "source": [
    "# Renk indeksleri ekle\n",
    "data[\"u_g\"] = data[\"u\"] - data[\"g\"]\n",
    "data[\"g_r\"] = data[\"g\"] - data[\"r\"]\n",
    "data[\"r_i\"] = data[\"r\"] - data[\"i\"]\n",
    "data[\"i_z\"] = data[\"i\"] - data[\"z\"]"
   ]
  },
  {
   "cell_type": "markdown",
   "id": "7548db82",
   "metadata": {},
   "source": [
    "# Veri Setinin Eğitim, Doğrulama ve Test Olarak Bölünmesi\n",
    "Veri setini eğitim, doğrulama ve test alt kümelerine ayırın."
   ]
  },
  {
   "cell_type": "code",
   "execution_count": null,
   "id": "e1cf88da",
   "metadata": {},
   "outputs": [],
   "source": [
    "# Özellikler ve etiketleri ayır\n",
    "X = data.drop(columns=[\"class\"])\n",
    "y = data[\"class\"]\n",
    "\n",
    "# Eğitim, doğrulama ve test setlerine ayır\n",
    "X_train, X_temp, y_train, y_temp = train_test_split(X, y, test_size=0.4, random_state=42, stratify=y)\n",
    "X_val, X_test, y_val, y_test = train_test_split(X_temp, y_temp, test_size=0.5, random_state=42)"
   ]
  }
 ],
 "metadata": {
  "language_info": {
   "name": "python"
  }
 },
 "nbformat": 4,
 "nbformat_minor": 5
}
